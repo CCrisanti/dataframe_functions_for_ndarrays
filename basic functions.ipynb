{
 "cells": [
  {
   "cell_type": "code",
   "execution_count": 40,
   "metadata": {},
   "outputs": [
    {
     "name": "stdout",
     "output_type": "stream",
     "text": [
      "[[6041 6041 5968.0 6039.0 6041.0 6041.0 6033.0 5989.0 6041.0]\n",
      " [102 756 748.0 2316.0 809.0 838.0 1276.0 1950.0 3930.0]\n",
      " ['Carp' '06/09/93' 15.0 100.0 37.31671 77.25859 79.0 0.69 0.0]\n",
      " [861 84 59.0 58.0 179.0 179.0 77.0 18.0 220.0]]\n",
      "<class 'pandas.core.frame.DataFrame'>\n",
      "RangeIndex: 6041 entries, 0 to 6040\n",
      "Data columns (total 9 columns):\n",
      "0    6041 non-null object\n",
      "1    6041 non-null object\n",
      "2    5968 non-null object\n",
      "3    6039 non-null object\n",
      "4    6041 non-null object\n",
      "5    6041 non-null object\n",
      "6    6033 non-null object\n",
      "7    5989 non-null object\n",
      "8    6041 non-null object\n",
      "dtypes: object(9)\n",
      "memory usage: 424.8+ KB\n",
      "None\n"
     ]
    }
   ],
   "source": [
    "import pandas as pd\n",
    "import numpy as np\n",
    "\n",
    "data = pd.read_csv('cleaned_data.csv')\n",
    "data = np.array(data)\n",
    "\n",
    "\n",
    "def ndarray_describe(ndarray):\n",
    "    ndarray = pd.DataFrame(ndarray)\n",
    "    ndarray = ndarray.describe()\n",
    "    ndarray = np.array(ndarray)\n",
    "    return(ndarray)\n",
    "\n",
    "print(ndarray_describe(data))\n",
    "\n",
    "def ndarray_info(ndarray):\n",
    "    ndarray = pd.DataFrame(ndarray)\n",
    "    ndarray = ndarray.info()\n",
    "    ndarray = np.array(ndarray)\n",
    "    return(ndarray)\n",
    "\n",
    "print(ndarray_info(data))"
   ]
  }
 ],
 "metadata": {
  "kernelspec": {
   "display_name": "Python 3",
   "language": "python",
   "name": "python3"
  },
  "language_info": {
   "codemirror_mode": {
    "name": "ipython",
    "version": 3
   },
   "file_extension": ".py",
   "mimetype": "text/x-python",
   "name": "python",
   "nbconvert_exporter": "python",
   "pygments_lexer": "ipython3",
   "version": "3.6.5"
  }
 },
 "nbformat": 4,
 "nbformat_minor": 2
}
